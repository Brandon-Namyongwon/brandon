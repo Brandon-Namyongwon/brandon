{
  "nbformat": 4,
  "nbformat_minor": 0,
  "metadata": {
    "colab": {
      "private_outputs": true,
      "provenance": [],
      "gpuType": "T4",
      "mount_file_id": "https://github.com/Brandon-Namyongwon/brandon/blob/main/fastcampus_classifiacation.ipynb",
      "authorship_tag": "ABX9TyMlv1Bk4+Atim8uuoklw+pl",
      "include_colab_link": true
    },
    "kernelspec": {
      "name": "python3",
      "display_name": "Python 3"
    },
    "language_info": {
      "name": "python"
    },
    "accelerator": "GPU"
  },
  "cells": [
    {
      "cell_type": "markdown",
      "metadata": {
        "id": "view-in-github",
        "colab_type": "text"
      },
      "source": [
        "<a href=\"https://colab.research.google.com/github/Brandon-Namyongwon/brandon/blob/main/fastcampus_classifiacation.ipynb\" target=\"_parent\"><img src=\"https://colab.research.google.com/assets/colab-badge.svg\" alt=\"Open In Colab\"/></a>"
      ]
    },
    {
      "cell_type": "code",
      "source": [
        "from google.colab import drive\n",
        "drive.mount('/content/drive')"
      ],
      "metadata": {
        "id": "ct455136DPeP"
      },
      "execution_count": null,
      "outputs": []
    },
    {
      "cell_type": "code",
      "execution_count": null,
      "metadata": {
        "id": "dusEDMKm9iqG"
      },
      "outputs": [],
      "source": [
        "import os\n",
        "import copy\n",
        "import random\n",
        "\n",
        "import cv2\n",
        "import torch\n",
        "import numpy as np\n",
        "from torch import nn\n",
        "from torchvision import transforms, models\n",
        "from torch.utils.data import Dataset, DataLoader\n",
        "import matplotlib.pyplot as plt\n",
        "from ipywidgets import interact\n",
        "\n",
        "random_seed = 2022\n",
        "\n",
        "random.seed(random_seed)\n",
        "np.random.seed(random_seed)\n",
        "torch.manual_seed(random_seed)\n",
        "torch.cuda.manual_seed(random_seed)\n",
        "torch.backends.cudnn.deterministic = True\n",
        "torch.backends.cudnn.benchmark = False"
      ]
    },
    {
      "cell_type": "code",
      "source": [
        "import os"
      ],
      "metadata": {
        "id": "4cpzEFv8DygQ"
      },
      "execution_count": null,
      "outputs": []
    },
    {
      "cell_type": "code",
      "source": [
        "def list_image_files(data_dir, sub_dir):\n",
        "    image_format = [\"jpeg\", \"jpg\", \"png\"]\n",
        "\n",
        "    image_files = []\n",
        "    images_dir = os.path.join(data_dir, sub_dir)\n",
        "    for file_path in os.listdir(images_dir):\n",
        "        if file_path.split(\".\")[-1] in image_format:\n",
        "            image_files.append(os.path.join(sub_dir, file_path))\n",
        "    return image_files"
      ],
      "metadata": {
        "id": "8GgEfL4gna4m"
      },
      "execution_count": null,
      "outputs": []
    },
    {
      "cell_type": "code",
      "source": [
        "data_dir = \"/content/drive/MyDrive/fastcampus/Part3. 실습/Covid19-dataset/train\"\n",
        "\n",
        "normals_list = list_image_files(data_dir, \"Normal\")\n",
        "covids_list = list_image_files(data_dir, \"Covid\")\n",
        "pneumonias_list = list_image_files(data_dir, \"Viral Pneumonia\")"
      ],
      "metadata": {
        "id": "lw4OKF5boYn7"
      },
      "execution_count": null,
      "outputs": []
    },
    {
      "cell_type": "code",
      "source": [
        "import cv2"
      ],
      "metadata": {
        "id": "VelO8Vh9oer7"
      },
      "execution_count": null,
      "outputs": []
    },
    {
      "cell_type": "code",
      "source": [
        "def get_RGB_image(data_dir, file_name):\n",
        "    image_file = os.path.join(data_dir, file_name)\n",
        "    image = cv2.imread(image_file)\n",
        "    image = cv2.cvtColor(image, cv2.COLOR_BGR2RGB)\n",
        "    return image"
      ],
      "metadata": {
        "id": "lYb1oudBokPb"
      },
      "execution_count": null,
      "outputs": []
    },
    {
      "cell_type": "code",
      "source": [
        "import matplotlib.pyplot as plt\n",
        "from ipywidgets import interact"
      ],
      "metadata": {
        "id": "iCmA-18joooR"
      },
      "execution_count": null,
      "outputs": []
    },
    {
      "cell_type": "code",
      "source": [
        "min_num_files = min(len(normals_list), len(covids_list), len(pneumonias_list))\n",
        "\n",
        "@interact(index=(0, min_num_files-1))\n",
        "def show_samples(index=0):\n",
        "    normal_image = get_RGB_image(data_dir, normals_list[index])\n",
        "    covid_image = get_RGB_image(data_dir, covids_list[index])\n",
        "    pneumonia_image = get_RGB_image(data_dir, pneumonias_list[index])\n",
        "\n",
        "    plt.figure(figsize=(12, 8))\n",
        "    plt.subplot(131)\n",
        "    plt.title(\"Normal\")\n",
        "    plt.imshow(normal_image)\n",
        "    plt.subplot(132)\n",
        "    plt.title(\"Covid\")\n",
        "    plt.imshow(covid_image)\n",
        "    plt.subplot(133)\n",
        "    plt.title(\"Pneumonia\")\n",
        "    plt.imshow(pneumonia_image)\n",
        "    plt.tight_layout()"
      ],
      "metadata": {
        "id": "UuXG4T8moq0U"
      },
      "execution_count": null,
      "outputs": []
    },
    {
      "cell_type": "code",
      "source": [
        "train_data_dir = \"/content/drive/MyDrive/fastcampus/Part3. 실습/Covid19-dataset/train\"\n",
        "class_list = [\"Normal\", \"Covid\", \"Viral Pneumonia\"]"
      ],
      "metadata": {
        "id": "HLh33PaxosPb"
      },
      "execution_count": null,
      "outputs": []
    },
    {
      "cell_type": "code",
      "source": [
        "class Chest_dataset(Dataset):\n",
        "    def __init__(self, data_dir, transform=None):\n",
        "        self.data_dir = data_dir\n",
        "        normals = list_image_files(data_dir, \"Normal\")\n",
        "        covids = list_image_files(data_dir, \"Covid\")\n",
        "        pneumonias = list_image_files(data_dir, \"Viral Pneumonia\")\n",
        "\n",
        "        self.files_path = normals + covids + pneumonias\n",
        "        self.transform = transform\n",
        "\n",
        "    def __len__(self):\n",
        "        return len(self.files_path)\n",
        "\n",
        "    def __getitem__(self, index):\n",
        "        image_file = os.path.join(self.data_dir, self.files_path[index])\n",
        "        image = cv2.imread(image_file)\n",
        "        image = cv2.cvtColor(image, cv2.COLOR_BGR2RGB)\n",
        "\n",
        "        target = class_list.index(self.files_path[index].split(os.sep)[-2])\n",
        "\n",
        "        target = class_list.index(self.files_path[index].split(os.sep)[0])\n",
        "\n",
        "        if self.transform:\n",
        "            image = self.transform(image)\n",
        "            target = torch.Tensor([target]).long()\n",
        "\n",
        "        return {\"image\":image, \"target\":target}"
      ],
      "metadata": {
        "id": "zql1ILIEpCfT"
      },
      "execution_count": null,
      "outputs": []
    },
    {
      "cell_type": "code",
      "source": [
        "dset = Chest_dataset(train_data_dir)"
      ],
      "metadata": {
        "id": "gUUTpSuMpcMH"
      },
      "execution_count": null,
      "outputs": []
    },
    {
      "cell_type": "code",
      "source": [
        "index = 100\n",
        "plt.title(class_list[dset[index][\"target\"]])\n",
        "plt.imshow(dset[index][\"image\"])"
      ],
      "metadata": {
        "id": "HM1vGUXrsJYl"
      },
      "execution_count": null,
      "outputs": []
    },
    {
      "cell_type": "code",
      "source": [
        "len(dset)"
      ],
      "metadata": {
        "id": "o2Oj0zs-GSDM"
      },
      "execution_count": null,
      "outputs": []
    },
    {
      "cell_type": "code",
      "source": [
        "transformer = transforms.Compose([\n",
        "    transforms.ToTensor(),\n",
        "    transforms.Resize((224, 224)),\n",
        "    transforms.Normalize(mean=[0.5, 0.5, 0.5],\n",
        "                         std=[0.5, 0.5, 0.5])\n",
        "])\n"
      ],
      "metadata": {
        "id": "5ED9PtIDsL33"
      },
      "execution_count": null,
      "outputs": []
    },
    {
      "cell_type": "code",
      "source": [
        "train_dset = Chest_dataset(train_data_dir, transformer)"
      ],
      "metadata": {
        "id": "-ufkx9IKsXOh"
      },
      "execution_count": null,
      "outputs": []
    },
    {
      "cell_type": "code",
      "source": [
        "index = 200\n",
        "image = train_dset[index][\"image\"]\n",
        "label = train_dset[index][\"target\"]"
      ],
      "metadata": {
        "id": "JrDhdbWPscvo"
      },
      "execution_count": null,
      "outputs": []
    },
    {
      "cell_type": "code",
      "source": [
        "print(image.shape, label)"
      ],
      "metadata": {
        "id": "ugzpsXYWsesb"
      },
      "execution_count": null,
      "outputs": []
    },
    {
      "cell_type": "code",
      "source": [
        "def build_dataloader(train_data_dir, val_data_dir):\n",
        "    dataloaders = {}\n",
        "    train_dset = Chest_dataset(train_data_dir, transformer)\n",
        "    dataloaders[\"train\"] = DataLoader(train_dset, batch_size=4, shuffle=True, drop_last=True)\n",
        "\n",
        "    val_dset = Chest_dataset(val_data_dir, transformer)\n",
        "    dataloaders[\"val\"] = DataLoader(val_dset, batch_size=1, shuffle=False, drop_last=False)\n",
        "    return dataloaders\n"
      ],
      "metadata": {
        "id": "wkV352dNskuG"
      },
      "execution_count": null,
      "outputs": []
    },
    {
      "cell_type": "code",
      "source": [
        "train_data_dir = \"/content/drive/MyDrive/fastcampus/Part3. 실습/Covid19-dataset/train\"\n",
        "val_data_dir = \"/content/drive/MyDrive/fastcampus/Part3. 실습/Covid19-dataset/test\"\n",
        "dataloaders = build_dataloader(train_data_dir, val_data_dir)"
      ],
      "metadata": {
        "id": "w30zzQjqsn7g"
      },
      "execution_count": null,
      "outputs": []
    },
    {
      "cell_type": "code",
      "source": [
        "for i, d in enumerate(dataloaders[\"train\"]):\n",
        "    if i == 0:\n",
        "        break"
      ],
      "metadata": {
        "id": "VDCD2V5Isyk1"
      },
      "execution_count": null,
      "outputs": []
    },
    {
      "cell_type": "code",
      "source": [
        "d[\"target\"].shape"
      ],
      "metadata": {
        "id": "vJpcLPsPs00s"
      },
      "execution_count": null,
      "outputs": []
    },
    {
      "cell_type": "code",
      "source": [
        "d[\"target\"].squeeze()"
      ],
      "metadata": {
        "id": "f3_L-v1ks4FV"
      },
      "execution_count": null,
      "outputs": []
    },
    {
      "cell_type": "code",
      "source": [
        "model = models.vgg19(pretrained=True)"
      ],
      "metadata": {
        "id": "JVyqRUQxs6Jc"
      },
      "execution_count": null,
      "outputs": []
    },
    {
      "cell_type": "code",
      "source": [
        "from torchsummary import summary\n",
        "summary(model, (3, 224, 224), batch_size=1, device=\"cpu\")"
      ],
      "metadata": {
        "id": "TQJ1Itwts9b1"
      },
      "execution_count": null,
      "outputs": []
    },
    {
      "cell_type": "code",
      "source": [
        "import torch.nn as nn"
      ],
      "metadata": {
        "id": "X8c9vPgV40NN"
      },
      "execution_count": null,
      "outputs": []
    },
    {
      "cell_type": "code",
      "source": [
        "model.avgpool = nn.AdaptiveAvgPool2d(output_size=(1,1))\n",
        "model.classifier = nn.Sequential(\n",
        "    nn.Flatten(),\n",
        "    nn.Linear(512, 256),\n",
        "    nn.ReLU(),\n",
        "    nn.Dropout(0.1),\n",
        "    nn.Linear(256, len(class_list)),\n",
        "    nn.Sigmoid()\n",
        ")"
      ],
      "metadata": {
        "id": "TRYML_Ln4V9O"
      },
      "execution_count": null,
      "outputs": []
    },
    {
      "cell_type": "code",
      "source": [
        "def build_vgg19_based_model(device_name='cpu'):\n",
        "    device = torch.device(device_name)\n",
        "    model = models.vgg19(pretrained=True)\n",
        "    model.avgpool = nn.AdaptiveAvgPool2d(output_size=(1,1))\n",
        "    model.classifier = nn.Sequential(\n",
        "        nn.Flatten(),\n",
        "        nn.Linear(512, 256),\n",
        "        nn.ReLU(),\n",
        "        nn.Linear(256, len(class_list)),\n",
        "        nn.Softmax(dim=1)\n",
        "    )\n",
        "    return model.to(device)"
      ],
      "metadata": {
        "id": "0kySVqfqPYIn"
      },
      "execution_count": null,
      "outputs": []
    },
    {
      "cell_type": "code",
      "source": [
        "model = build_vgg19_based_model(device_name='cpu')"
      ],
      "metadata": {
        "id": "LzKejiRbQREl"
      },
      "execution_count": null,
      "outputs": []
    },
    {
      "cell_type": "code",
      "source": [
        "from torchsummary import summary\n",
        "summary(model, (3, 224, 224), batch_size=1, device=\"cpu\")"
      ],
      "metadata": {
        "id": "Ofii0VpqQT1P"
      },
      "execution_count": null,
      "outputs": []
    },
    {
      "cell_type": "code",
      "source": [
        "loss_func = nn.CrossEntropyLoss(reduction=\"mean\")"
      ],
      "metadata": {
        "id": "wz53G5yBQYve"
      },
      "execution_count": null,
      "outputs": []
    },
    {
      "cell_type": "code",
      "source": [
        "optimizer = torch.optim.SGD(model.parameters(), lr= 1E-3, momentum=0.9)"
      ],
      "metadata": {
        "id": "kY2JOjTaQkzn"
      },
      "execution_count": null,
      "outputs": []
    },
    {
      "cell_type": "code",
      "source": [
        "@torch.no_grad()\n",
        "def get_accuracy(image, target, model):\n",
        "    batch_size = image.shape[0]\n",
        "    prediction = model(image)\n",
        "    _, pred_label = torch.max(prediction, dim=1)\n",
        "    is_correct = (pred_label == target)\n",
        "    return is_correct.cpu().numpy().sum() / batch_size"
      ],
      "metadata": {
        "id": "D0v4y6FjpPiM"
      },
      "execution_count": null,
      "outputs": []
    },
    {
      "cell_type": "code",
      "source": [
        "device = torch.device(\"cpu\")"
      ],
      "metadata": {
        "id": "zMNQIu3NRpdp"
      },
      "execution_count": null,
      "outputs": []
    },
    {
      "cell_type": "code",
      "source": [
        "def train_one_epoch(dataloaders, model, optimizer, loss_func, device):\n",
        "    losses = {}\n",
        "    accuracies = {}\n",
        "    for phase in [\"train\", \"val\"]:\n",
        "\n",
        "        running_loss = 0.0\n",
        "        running_correct = 0\n",
        "\n",
        "        if phase == \"train\":\n",
        "            model.train()\n",
        "        else:\n",
        "            model.eval()\n",
        "\n",
        "        for index, batch in enumerate(dataloaders[phase]):\n",
        "            image = batch[\"image\"].to(device)\n",
        "            target = batch[\"target\"].squeeze(1).to(device)\n",
        "\n",
        "            optimizer.zero_grad()\n",
        "\n",
        "            with torch.set_grad_enabled(phase == \"train\"):\n",
        "                prediction = model(image)\n",
        "                loss = loss_func(prediction, target)\n",
        "\n",
        "                if phase == \"train\":\n",
        "                    loss.backward()\n",
        "                    optimizer.step()\n",
        "\n",
        "            running_loss += loss.item()\n",
        "            running_correct += get_accuracy(image, target, model)\n",
        "\n",
        "            if phase == \"train\":\n",
        "                if index % 10 == 0:\n",
        "                    print(f\"{index}/{len(dataloaders[phase])} - Running Loss: {loss.item()}\")\n",
        "\n",
        "        losses[phase] = running_loss / len(dataloaders[phase])\n",
        "        accuracies[phase] = running_correct / len(dataloaders[phase])\n",
        "    return losses, accuracies"
      ],
      "metadata": {
        "id": "vqx5lKtISobG"
      },
      "execution_count": null,
      "outputs": []
    },
    {
      "cell_type": "code",
      "source": [
        "def save_best_model(model_state, model_name, save_dir=\"./trained_model\"):\n",
        "    os.makedirs(save_dir, exist_ok=True)\n",
        "    torch.save(model_state, os.path.join(save_dir, model_name))"
      ],
      "metadata": {
        "id": "SWNxfEw6iQcd"
      },
      "execution_count": null,
      "outputs": []
    },
    {
      "cell_type": "code",
      "source": [
        "device = torch.device(\"cuda\")\n",
        "\n",
        "train_data_dir = \"/content/drive/MyDrive/fastcampus/Part3. 실습/Covid19-dataset/train\"\n",
        "val_data_dir = \"/content/drive/MyDrive/fastcampus/Part3. 실습/Covid19-dataset/test\"\n",
        "\n",
        "dataloaders = build_dataloader(train_data_dir, val_data_dir)\n",
        "model = build_vgg19_based_model(device_name='cuda')\n",
        "loss_func = nn.CrossEntropyLoss(reduction=\"mean\")\n",
        "optimizer = torch.optim.SGD(model.parameters(), lr= 1E-3, momentum=0.9)"
      ],
      "metadata": {
        "id": "xx64ax82idjL"
      },
      "execution_count": null,
      "outputs": []
    },
    {
      "cell_type": "code",
      "source": [
        "def train_one_epoch(dataloaders, model, optimizer, loss_function, device):\n",
        "    losses = {}\n",
        "    accuracies = {}\n",
        "\n",
        "    for phase in [\"train\", \"val\"]:\n",
        "        running_loss = 0.0\n",
        "        running_correct = 0\n",
        "\n",
        "        if phase == \"train\":\n",
        "            model.train()\n",
        "        else:\n",
        "            model.eval()\n",
        "\n",
        "        for index, batch in enumerate(dataloaders[phase]):\n",
        "            # Access the image and target tensors using the correct keys\n",
        "            image = batch[\"image\"].to(device)\n",
        "            target = batch[\"target\"].squeeze(dim=1).to(device)\n",
        "\n",
        "            with torch.set_grad_enabled(phase == \"train\"):\n",
        "                prediction = model(image)\n",
        "                loss = loss_func(prediction, target)\n",
        "\n",
        "                if phase == \"train\":\n",
        "                    optimizer.zero_grad()\n",
        "                    loss.backward()\n",
        "                    optimizer.step()\n",
        "\n",
        "            running_loss += loss.item()\n",
        "            running_correct += get_accuracy(image, target, model)\n",
        "\n",
        "            if phase == \"train\":\n",
        "                if index % 10 == 0:\n",
        "                    print(f\"{index}/{len(dataloaders['train'])} - Running loss: {loss.item()}\")\n",
        "\n",
        "        losses[phase] = running_loss / len(dataloaders[phase])\n",
        "        accuracies[phase] = running_correct / len(dataloaders[phase])\n",
        "    return losses, accuracies"
      ],
      "metadata": {
        "id": "wdlJYAlwigjT"
      },
      "execution_count": null,
      "outputs": []
    },
    {
      "cell_type": "code",
      "source": [
        "num_epochs = 10\n",
        "\n",
        "best_acc = 0.0\n",
        "train_loss, train_accuracy = [], []\n",
        "val_loss, val_accuracy = [], []\n",
        "\n",
        "for epoch in range(num_epochs):\n",
        "    losses, accuracies = train_one_epoch(dataloaders, model, optimizer, loss_func, device)\n",
        "    train_loss.append(losses[\"train\"])\n",
        "    val_loss.append(losses[\"val\"])\n",
        "    train_accuracy.append(accuracies[\"train\"])\n",
        "    val_accuracy.append(accuracies[\"val\"])\n",
        "\n",
        "    print(f\"{epoch+1}/{num_epochs}-Train Loss: {losses['train']}, Val Loss: {losses['val']}\")\n",
        "    print(f\"{epoch+1}/{num_epochs}-Train Acc: {accuracies['train']}, Val Acc: {accuracies['val']}\")\n",
        "\n",
        "    if (epoch > 3) and (accuracies[\"val\"] > best_acc):\n",
        "        best_acc = accuracies[\"val\"]\n",
        "        best_model = copy.deepcopy(model.state_dict())\n",
        "        save_best_model(best_model, f\"model_{epoch+1:02d}.pth\")\n",
        "\n",
        "print(f\"Best Accuracy: {best_acc}\")"
      ],
      "metadata": {
        "id": "QIc-JctDkzL1"
      },
      "execution_count": null,
      "outputs": []
    },
    {
      "cell_type": "code",
      "source": [
        "plt.figure(figsize=(6, 5))\n",
        "plt.subplot(211)\n",
        "plt.plot(train_loss, label=\"train\")\n",
        "plt.plot(val_loss,  label=\"val\")\n",
        "plt.xlabel(\"epoch\")\n",
        "plt.ylabel(\"loss\")\n",
        "plt.grid(\"on\")\n",
        "plt.legend()\n",
        "plt.subplot(212)\n",
        "plt.plot(train_accuracy, label=\"train\")\n",
        "plt.plot(val_accuracy, label=\"val\")\n",
        "plt.xlabel(\"epoch\")\n",
        "plt.ylabel(\"accuracy\")\n",
        "plt.grid(\"on\")\n",
        "plt.legend()\n",
        "plt.tight_layout()\n"
      ],
      "metadata": {
        "id": "sJIc-dBuk3w5"
      },
      "execution_count": null,
      "outputs": []
    },
    {
      "cell_type": "code",
      "source": [
        "data_data = \"/content/drive/MyDrive/fastcampus/Part3. 실습/Covid19-dataset/test\"\n",
        "class_list = [\"Normal\", \"Covid\", \"Viral Pneumonia\"]\n",
        "\n",
        "test_normals_list = list_image_files(data_dir, \"Normal\")\n",
        "test_covids_list = list_image_files(data_dir, \"Covid\")\n",
        "test_pneumonias_list = list_image_files(data_dir, \"Viral Pneumonia\")"
      ],
      "metadata": {
        "id": "ZFTMa4BKrYCf"
      },
      "execution_count": null,
      "outputs": []
    },
    {
      "cell_type": "code",
      "source": [
        "def preprocess_image(image):\n",
        "    transformer = transforms.Compose([\n",
        "        transforms.ToTensor(),\n",
        "        transforms.Resize((224, 244)),\n",
        "        transforms.Normalize(mean=[0.5, 0.5, 0.5], std=[0.5,0.5,0.5])\n",
        "    ])\n",
        "\n",
        "    tensor_image = transformer(image)  # (C, H, W)\n",
        "    tensor_image = tensor_image.unsqueeze(0) # (B, C, H, W)\n",
        "    return tensor_image"
      ],
      "metadata": {
        "id": "NWukHzgUu8fm"
      },
      "execution_count": null,
      "outputs": []
    },
    {
      "cell_type": "code",
      "source": [
        "@torch.no_grad()\n",
        "def model_predict(image, model):\n",
        "    tensor_image = preprocess_image(image)\n",
        "    prediction = model(tensor_image)\n",
        "\n",
        "    _, pred_label = torch.max(prediction.detach(), dim=1)\n",
        "    pred_label = pred_label.squeeze(0)\n",
        "    return pred_label.item()"
      ],
      "metadata": {
        "id": "3y4sdANlvESY"
      },
      "execution_count": null,
      "outputs": []
    },
    {
      "cell_type": "code",
      "source": [
        "ckpt = torch.load(\"/content/trained_model/model_06.pth\")\n",
        "\n",
        "model = build_vgg19_based_model(device_name='cpu')\n",
        "model.load_state_dict(ckpt)\n",
        "model.eval()"
      ],
      "metadata": {
        "id": "P6kla0gAvHwH"
      },
      "execution_count": null,
      "outputs": []
    },
    {
      "cell_type": "code",
      "source": [
        "min_num_files = min(len(test_normals_list), len(test_covids_list), len(test_pneumonias_list))\n",
        "\n",
        "@interact(index=(0, min_num_files-1))\n",
        "def show_result(index=0):\n",
        "    normal_image = get_RGB_image(data_dir, test_normals_list[index])\n",
        "    covid_image = get_RGB_image(data_dir, test_covids_list[index])\n",
        "    pneumonia_image = get_RGB_image(data_dir, test_pneumonias_list[index])\n",
        "\n",
        "    prediction_1 = model_predict(normal_image, model)\n",
        "    prediction_2 = model_predict(covid_image, model)\n",
        "    prediction_3 = model_predict(pneumonia_image, model)\n",
        "\n",
        "    plt.figure(figsize=(12,8))\n",
        "    plt.subplot(131)\n",
        "    plt.title(f\"Pred:{class_list[prediction_1]} | GT:Normal\")\n",
        "    plt.imshow(normal_image)\n",
        "    plt.subplot(132)\n",
        "    plt.title(f\"Pred:{class_list[prediction_2]} | GT:Covid\")\n",
        "    plt.imshow(covid_image)\n",
        "    plt.subplot(133)\n",
        "    plt.title(f\"Pred:{class_list[prediction_3]} | GT:Pneumonia\")\n",
        "    plt.imshow(pneumonia_image)\n",
        "    plt.tight_layout()"
      ],
      "metadata": {
        "id": "_UqEh5jyvu3g"
      },
      "execution_count": null,
      "outputs": []
    },
    {
      "cell_type": "code",
      "source": [
        "data_dir = \"/content/drive/MyDrive/fastcampus/Part3. 실습/Covid19-dataset/test\"\n",
        "class_list = [\"Normal\", \"Covid\", \"Viral Pneumonia\"]\n",
        "\n",
        "test_normals_list = list_image_files(data_dir, \"Normal\")\n",
        "test_covids_list = list_image_files(data_dir, \"Covid\")\n",
        "test_pneumonias_list = list_image_files(data_dir, \"Viral Pneumonia\")\n",
        "\n",
        "def get_RGB_image(data_dir, file_name):\n",
        "    image_file = os.path.join(data_dir, file_name)\n",
        "    image = cv2.imread(image_file)\n",
        "    image = cv2.cvtColor(image, cv2.COLOR_BGR2RGB)\n",
        "    return image"
      ],
      "metadata": {
        "id": "6G-P7ZSlxman"
      },
      "execution_count": null,
      "outputs": []
    },
    {
      "cell_type": "code",
      "source": [
        "def preprocess_image(image):\n",
        "    ori_H, ori_W = image.shape[:2]\n",
        "\n",
        "    transformer = transforms.Compose([\n",
        "        transforms.ToTensor(),\n",
        "        transforms.Resize((224, 224)),\n",
        "        transforms.Normalize(mean=[0.5, 0.5, 0.5],\n",
        "                             std=[0.5, 0.5, 0.5])\n",
        "        ])\n",
        "\n",
        "    tensor_image = transformer(image)\n",
        "    tensor_image = tensor_image.unsqueeze(0)\n",
        "    return tensor_image"
      ],
      "metadata": {
        "id": "c2IPuSV6yQ1t"
      },
      "execution_count": null,
      "outputs": []
    },
    {
      "cell_type": "code",
      "source": [
        "ckpt = torch.load(\"./trained_model/model_06.pth\")\n",
        "\n",
        "model = build_vgg19_based_model(device_name=\"cpu\")\n",
        "model.load_state_dict(ckpt)\n",
        "model.eval()\n",
        "\n",
        "def test_model(image, model):\n",
        "    tensor_image = preprocess_image(image)\n",
        "\n",
        "    with torch.no_grad():\n",
        "        prediction = model(tensor_image)\n",
        "\n",
        "    _, pred_label = torch.max(prediction.detach(), dim=1)\n",
        "    pred_label = pred_label.squeeze(0)\n",
        "    return pred_label.item()"
      ],
      "metadata": {
        "id": "J3vtie4ayVU5"
      },
      "execution_count": null,
      "outputs": []
    },
    {
      "cell_type": "code",
      "source": [
        "min_num_files = min(len(test_normals_list), len(test_covids_list), len(test_pneumonias_list))\n",
        "\n",
        "@interact(index=(0, min_num_files-1))\n",
        "def show_samples(index=0):\n",
        "    normal_image = get_RGB_image(data_dir, test_normals_list[index])\n",
        "    covid_image = get_RGB_image(data_dir, test_covids_list[index])\n",
        "    pneumonia_image = get_RGB_image(data_dir, test_pneumonias_list[index])\n",
        "\n",
        "    prediction_1 = test_model(normal_image, model)\n",
        "    prediction_2 = test_model(covid_image, model)\n",
        "    prediction_3 = test_model(pneumonia_image, model)\n",
        "\n",
        "    plt.figure(figsize=(12, 8))\n",
        "    plt.subplot(131)\n",
        "    plt.title(f\"Pred:{class_list[prediction_1]} | GT:Normal\")\n",
        "    plt.imshow(normal_image)\n",
        "    plt.subplot(132)\n",
        "    plt.title(f\"Pred:{class_list[prediction_2]} | GT:Covid\")\n",
        "    plt.imshow(covid_image)\n",
        "    plt.subplot(133)\n",
        "    plt.title(f\"Pred:{class_list[prediction_3]} | GT:Viral Pneumonia\")\n",
        "    plt.imshow(pneumonia_image)\n",
        "    plt.tight_layout()"
      ],
      "metadata": {
        "id": "XV52ZVPSyfeI"
      },
      "execution_count": null,
      "outputs": []
    },
    {
      "cell_type": "code",
      "source": [],
      "metadata": {
        "id": "pkTq3IO2yiVO"
      },
      "execution_count": null,
      "outputs": []
    }
  ]
}